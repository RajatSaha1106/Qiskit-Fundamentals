{
 "cells": [
  {
   "cell_type": "code",
   "execution_count": 2,
   "metadata": {},
   "outputs": [
    {
     "name": "stderr",
     "output_type": "stream",
     "text": [
      "Please first ``pip install -U qiskit`` to enable related functionality in translation module\n"
     ]
    }
   ],
   "source": [
    "import tensorcircuit as tc\n",
    "import jax as jax"
   ]
  },
  {
   "cell_type": "code",
   "execution_count": 3,
   "metadata": {},
   "outputs": [
    {
     "name": "stderr",
     "output_type": "stream",
     "text": [
      "optax not installed, `optimizer` from jax backend cannot work\n"
     ]
    },
    {
     "data": {
      "text/plain": [
       "(Array([1., 1., 0., 1., 1., 1., 1., 1., 0., 1., 1., 1., 1., 1., 0., 0., 0.,\n",
       "        0., 1., 0., 0., 1., 0., 1., 0., 1., 0., 1., 0., 0., 0., 1., 0., 0.,\n",
       "        1., 1., 0., 1., 1., 0., 0., 0., 0., 1., 0., 0., 1., 1., 1., 0.],      dtype=float32),\n",
       " Array(8.881782e-16, dtype=float32))"
      ]
     },
     "execution_count": 3,
     "metadata": {},
     "output_type": "execute_result"
    }
   ],
   "source": [
    "K=tc.set_backend(\"jax\")\n",
    "\n",
    "@K.jit \n",
    "\n",
    "def sam(key):\n",
    "    K.set_random_state(key)\n",
    "    n=50\n",
    "    c=tc.Circuit(n)\n",
    "\n",
    "    for i in range(n):\n",
    "        c.H(i) \n",
    "    return c.perfect_sampling() \n",
    "sam(jax.random.PRNGKey(42))\n",
    "sam(jax.random.PRNGKey(43))"
   ]
  },
  {
   "cell_type": "code",
   "execution_count": 12,
   "metadata": {},
   "outputs": [
    {
     "data": {
      "text/plain": [
       "Array([[0.+0.j, 1.+0.j, 0.+0.j, 0.+0.j],\n",
       "       [1.+0.j, 0.+0.j, 0.+0.j, 0.+0.j],\n",
       "       [0.+0.j, 0.+0.j, 0.+0.j, 1.+0.j],\n",
       "       [0.+0.j, 0.+0.j, 1.+0.j, 0.+0.j]], dtype=complex64)"
      ]
     },
     "execution_count": 12,
     "metadata": {},
     "output_type": "execute_result"
    }
   ],
   "source": [
    "n=2\n",
    "c=tc.Circuit(n,inputs=tc.backend.eye(2**n))\n",
    "\n",
    "c.X(1)\n",
    "\n",
    "tc.backend.reshapem(c.state())"
   ]
  },
  {
   "cell_type": "code",
   "execution_count": 13,
   "metadata": {},
   "outputs": [],
   "source": [
    "circ=c.to_qiskit()"
   ]
  },
  {
   "cell_type": "code",
   "execution_count": 14,
   "metadata": {},
   "outputs": [
    {
     "data": {
      "image/png": "[encoded data removed]",
      "text/plain": [
       "<Figure size 203.683x200.667 with 1 Axes>"
      ]
     },
     "execution_count": 14,
     "metadata": {},
     "output_type": "execute_result"
    }
   ],
   "source": [
    "circ.draw(output=\"mpl\")"
   ]
  },
  {
   "cell_type": "code",
   "execution_count": 15,
   "metadata": {},
   "outputs": [
    {
     "data": {
      "text/plain": [
       "[{'gatef': cnot,\n",
       "  'gate': Gate(\n",
       "      name: 'cnot',\n",
       "      tensor:\n",
       "          Array([[[[1.+0.j, 0.+0.j],\n",
       "                   [0.+0.j, 0.+0.j]],\n",
       "          \n",
       "                  [[0.+0.j, 1.+0.j],\n",
       "                   [0.+0.j, 0.+0.j]]],\n",
       "          \n",
       "          \n",
       "                 [[[0.+0.j, 0.+0.j],\n",
       "                   [0.+0.j, 1.+0.j]],\n",
       "          \n",
       "                  [[0.+0.j, 0.+0.j],\n",
       "                   [1.+0.j, 0.+0.j]]]], dtype=complex64),\n",
       "      edges: [\n",
       "          Edge('crx'[3] -> 'cnot'[0] ),\n",
       "          Edge('crx'[2] -> 'cnot'[1] ),\n",
       "          Edge('cnot'[2] -> 'qb-0'[0] ),\n",
       "          Edge('cnot'[3] -> 'qb-1'[0] )\n",
       "      ]),\n",
       "  'index': (0, 1),\n",
       "  'name': 'cnot',\n",
       "  'split': None,\n",
       "  'mpo': False},\n",
       " {'gatef': crx,\n",
       "  'index': (1, 0),\n",
       "  'name': 'crx',\n",
       "  'split': None,\n",
       "  'mpo': False,\n",
       "  'parameters': {'theta': 0.2},\n",
       "  'gate': Gate(\n",
       "      name: 'crx',\n",
       "      tensor:\n",
       "          Array([[[[1.       +0.j        , 0.       +0.j        ],\n",
       "                   [0.       +0.j        , 0.       +0.j        ]],\n",
       "          \n",
       "                  [[0.       +0.j        , 1.       +0.j        ],\n",
       "                   [0.       +0.j        , 0.       +0.j        ]]],\n",
       "          \n",
       "          \n",
       "                 [[[0.       +0.j        , 0.       +0.j        ],\n",
       "                   [0.9950042+0.j        , 0.       -0.09983342j]],\n",
       "          \n",
       "                  [[0.       +0.j        , 0.       +0.j        ],\n",
       "                   [0.       -0.09983342j, 0.9950042+0.j        ]]]],      dtype=complex64),\n",
       "      edges: [\n",
       "          Edge(Dangling Edge)[0],\n",
       "          Edge(Dangling Edge)[1],\n",
       "          Edge('crx'[2] -> 'cnot'[1] ),\n",
       "          Edge('crx'[3] -> 'cnot'[0] )\n",
       "      ])}]"
      ]
     },
     "execution_count": 15,
     "metadata": {},
     "output_type": "execute_result"
    }
   ],
   "source": [
    "c=tc.Circuit(2) \n",
    "c.cnot(0,1)\n",
    "c.crx(1,0,theta=0.2)\n",
    "c.to_qir()"
   ]
  },
  {
   "cell_type": "code",
   "execution_count": 16,
   "metadata": {},
   "outputs": [],
   "source": [
    "def noisecircuit(random):\n",
    "    c=tc.Circuit(1)\n",
    "    c.x(0)\n",
    "    c.thermalrelaxation(\n",
    "        0,\n",
    "        t1=300,\n",
    "        t2=400,\n",
    "        time=1000,\n",
    "        method=\"ByChoi\",\n",
    "        excitedstatepopulation=0,\n",
    "        status=random,\n",
    "    )\n",
    "    return c.expectation_ps(z=[0])\n",
    "K=tc.set_backend(\"tensorflow\")\n",
    "noisec_vmap=K.jit(K.vmap(noisecircuit,vectorized_argnums=0))\n",
    "\n",
    "nmc=1000\n",
    "random=K.implicit_randu(nmc)\n",
    "valuemc=K.mean(K.numpy(noisec_vmap(random)))"
   ]
  },
  {
   "cell_type": "code",
   "execution_count": 20,
   "metadata": {},
   "outputs": [
    {
     "name": "stdout",
     "output_type": "stream",
     "text": [
      "tf.Tensor((0.93+0j), shape=(), dtype=complex64)\n"
     ]
    }
   ],
   "source": [
    "print(valuemc)"
   ]
  },
  {
   "cell_type": "markdown",
   "metadata": {},
   "source": [
    "$\\textbf{Ising Type Hamiltonians Library}$"
   ]
  },
  {
   "cell_type": "code",
   "execution_count": 5,
   "metadata": {},
   "outputs": [],
   "source": [
    "c=tc.Circuit(4)\n",
    "c=tc.templates.blocks.example_block(c,tc.backend.ones([16]))"
   ]
  },
  {
   "cell_type": "code",
   "execution_count": 9,
   "metadata": {},
   "outputs": [],
   "source": [
    "from functools import partial\n",
    "import inspect\n",
    "import sys\n",
    "import numpy as np\n",
    "import tensorflow as tf\n",
    "\n",
    "import tensorcircuit as tc"
   ]
  },
  {
   "cell_type": "code",
   "execution_count": 12,
   "metadata": {},
   "outputs": [
    {
     "name": "stdout",
     "output_type": "stream",
     "text": [
      "Accepted gates: \n",
      "i\n",
      "x\n",
      "y\n",
      "z\n",
      "h\n",
      "t\n",
      "s\n",
      "td\n",
      "sd\n",
      "wroot\n",
      "cnot\n",
      "cz\n",
      "swap\n",
      "cy\n",
      "ox\n",
      "oy\n",
      "oz\n",
      "toffoli\n",
      "fredkin\n"
     ]
    }
   ],
   "source": [
    "def get_circuit(n):\n",
    "    c=tc.Circuit(n)\n",
    "    for i in range(n):\n",
    "        c.H(i)\n",
    "    c.cnot(0,1)\n",
    "    c.CNOT(n-1,n-2)\n",
    "    return c\n",
    "print(\"Accepted gates: \")\n",
    "print(*tc.Circuit.sgates,sep=\"\\n\")"
   ]
  },
  {
   "cell_type": "code",
   "execution_count": 14,
   "metadata": {},
   "outputs": [
    {
     "name": "stdout",
     "output_type": "stream",
     "text": [
      "i\n",
      "[[1.+0.j 0.+0.j]\n",
      " [0.+0.j 1.+0.j]]\n",
      "x\n",
      "[[0.+0.j 1.+0.j]\n",
      " [1.+0.j 0.+0.j]]\n",
      "y\n",
      "[[0.+0.j 0.-1.j]\n",
      " [0.+1.j 0.+0.j]]\n",
      "z\n",
      "[[ 1.+0.j  0.+0.j]\n",
      " [ 0.+0.j -1.+0.j]]\n",
      "h\n",
      "[[ 0.70710677+0.j  0.70710677+0.j]\n",
      " [ 0.70710677+0.j -0.70710677+0.j]]\n",
      "t\n",
      "[[1.        +0.j         0.        +0.j        ]\n",
      " [0.        +0.j         0.70710677+0.70710677j]]\n",
      "s\n",
      "[[1.+0.j 0.+0.j]\n",
      " [0.+0.j 0.+1.j]]\n",
      "td\n",
      "[[1.        +0.j         0.        +0.j        ]\n",
      " [0.        +0.j         0.70710677-0.70710677j]]\n",
      "sd\n",
      "[[1.+0.j 0.+0.j]\n",
      " [0.+0.j 0.-1.j]]\n",
      "wroot\n",
      "[[ 0.70710677+0.j  -0.5       -0.5j]\n",
      " [ 0.5       -0.5j  0.70710677+0.j ]]\n",
      "cnot\n",
      "[[1.+0.j 0.+0.j 0.+0.j 0.+0.j]\n",
      " [0.+0.j 1.+0.j 0.+0.j 0.+0.j]\n",
      " [0.+0.j 0.+0.j 0.+0.j 1.+0.j]\n",
      " [0.+0.j 0.+0.j 1.+0.j 0.+0.j]]\n",
      "cz\n",
      "[[ 1.+0.j  0.+0.j  0.+0.j  0.+0.j]\n",
      " [ 0.+0.j  1.+0.j  0.+0.j  0.+0.j]\n",
      " [ 0.+0.j  0.+0.j  1.+0.j  0.+0.j]\n",
      " [ 0.+0.j  0.+0.j  0.+0.j -1.+0.j]]\n",
      "swap\n",
      "[[1.+0.j 0.+0.j 0.+0.j 0.+0.j]\n",
      " [0.+0.j 0.+0.j 1.+0.j 0.+0.j]\n",
      " [0.+0.j 1.+0.j 0.+0.j 0.+0.j]\n",
      " [0.+0.j 0.+0.j 0.+0.j 1.+0.j]]\n",
      "cy\n",
      "[[1.+0.j 0.+0.j 0.+0.j 0.+0.j]\n",
      " [0.+0.j 1.+0.j 0.+0.j 0.+0.j]\n",
      " [0.+0.j 0.+0.j 0.+0.j 0.-1.j]\n",
      " [0.+0.j 0.+0.j 0.+1.j 0.+0.j]]\n",
      "ox\n",
      "[[0.+0.j 1.+0.j 0.+0.j 0.+0.j]\n",
      " [1.+0.j 0.+0.j 0.+0.j 0.+0.j]\n",
      " [0.+0.j 0.+0.j 1.+0.j 0.+0.j]\n",
      " [0.+0.j 0.+0.j 0.+0.j 1.+0.j]]\n",
      "oy\n",
      "[[0.+0.j 0.-1.j 0.+0.j 0.+0.j]\n",
      " [0.+1.j 0.+0.j 0.+0.j 0.+0.j]\n",
      " [0.+0.j 0.+0.j 1.+0.j 0.+0.j]\n",
      " [0.+0.j 0.+0.j 0.+0.j 1.+0.j]]\n",
      "oz\n",
      "[[ 1.+0.j  0.+0.j  0.+0.j  0.+0.j]\n",
      " [ 0.+0.j -1.+0.j  0.+0.j  0.+0.j]\n",
      " [ 0.+0.j  0.+0.j  1.+0.j  0.+0.j]\n",
      " [ 0.+0.j  0.+0.j  0.+0.j  1.+0.j]]\n",
      "toffoli\n",
      "[[1.+0.j 0.+0.j 0.+0.j 0.+0.j 0.+0.j 0.+0.j 0.+0.j 0.+0.j]\n",
      " [0.+0.j 1.+0.j 0.+0.j 0.+0.j 0.+0.j 0.+0.j 0.+0.j 0.+0.j]\n",
      " [0.+0.j 0.+0.j 1.+0.j 0.+0.j 0.+0.j 0.+0.j 0.+0.j 0.+0.j]\n",
      " [0.+0.j 0.+0.j 0.+0.j 1.+0.j 0.+0.j 0.+0.j 0.+0.j 0.+0.j]\n",
      " [0.+0.j 0.+0.j 0.+0.j 0.+0.j 1.+0.j 0.+0.j 0.+0.j 0.+0.j]\n",
      " [0.+0.j 0.+0.j 0.+0.j 0.+0.j 0.+0.j 1.+0.j 0.+0.j 0.+0.j]\n",
      " [0.+0.j 0.+0.j 0.+0.j 0.+0.j 0.+0.j 0.+0.j 0.+0.j 1.+0.j]\n",
      " [0.+0.j 0.+0.j 0.+0.j 0.+0.j 0.+0.j 0.+0.j 1.+0.j 0.+0.j]]\n",
      "fredkin\n",
      "[[1.+0.j 0.+0.j 0.+0.j 0.+0.j 0.+0.j 0.+0.j 0.+0.j 0.+0.j]\n",
      " [0.+0.j 1.+0.j 0.+0.j 0.+0.j 0.+0.j 0.+0.j 0.+0.j 0.+0.j]\n",
      " [0.+0.j 0.+0.j 1.+0.j 0.+0.j 0.+0.j 0.+0.j 0.+0.j 0.+0.j]\n",
      " [0.+0.j 0.+0.j 0.+0.j 1.+0.j 0.+0.j 0.+0.j 0.+0.j 0.+0.j]\n",
      " [0.+0.j 0.+0.j 0.+0.j 0.+0.j 1.+0.j 0.+0.j 0.+0.j 0.+0.j]\n",
      " [0.+0.j 0.+0.j 0.+0.j 0.+0.j 0.+0.j 0.+0.j 1.+0.j 0.+0.j]\n",
      " [0.+0.j 0.+0.j 0.+0.j 0.+0.j 0.+0.j 1.+0.j 0.+0.j 0.+0.j]\n",
      " [0.+0.j 0.+0.j 0.+0.j 0.+0.j 0.+0.j 0.+0.j 0.+0.j 1.+0.j]]\n"
     ]
    }
   ],
   "source": [
    "for g in tc.Circuit.sgates:\n",
    "    gf=getattr(tc.gates,g)\n",
    "    print(g)\n",
    "    print(tc.gates.matrix_for_gate(gf()))"
   ]
  },
  {
   "cell_type": "code",
   "execution_count": 15,
   "metadata": {},
   "outputs": [
    {
     "data": {
      "text/plain": [
       "[{'gatef': h,\n",
       "  'gate': Gate(\n",
       "      name: 'h',\n",
       "      tensor:\n",
       "          Array([[ 0.70710677+0.j,  0.70710677+0.j],\n",
       "                 [ 0.70710677+0.j, -0.70710677+0.j]], dtype=complex64),\n",
       "      edges: [\n",
       "          Edge('cnot'[2] -> 'h'[0] ),\n",
       "          Edge('h'[1] -> 'qb-0'[0] )\n",
       "      ]),\n",
       "  'index': (0,),\n",
       "  'name': 'h',\n",
       "  'split': None,\n",
       "  'mpo': False},\n",
       " {'gatef': h,\n",
       "  'gate': Gate(\n",
       "      name: 'h',\n",
       "      tensor:\n",
       "          Array([[ 0.70710677+0.j,  0.70710677+0.j],\n",
       "                 [ 0.70710677+0.j, -0.70710677+0.j]], dtype=complex64),\n",
       "      edges: [\n",
       "          Edge('cnot'[3] -> 'h'[0] ),\n",
       "          Edge('h'[1] -> 'qb-1'[0] )\n",
       "      ]),\n",
       "  'index': (1,),\n",
       "  'name': 'h',\n",
       "  'split': None,\n",
       "  'mpo': False},\n",
       " {'gatef': h,\n",
       "  'gate': Gate(\n",
       "      name: 'h',\n",
       "      tensor:\n",
       "          Array([[ 0.70710677+0.j,  0.70710677+0.j],\n",
       "                 [ 0.70710677+0.j, -0.70710677+0.j]], dtype=complex64),\n",
       "      edges: [\n",
       "          Edge('cnot'[2] -> 'h'[0] ),\n",
       "          Edge('h'[1] -> 'qb-2'[0] )\n",
       "      ]),\n",
       "  'index': (2,),\n",
       "  'name': 'h',\n",
       "  'split': None,\n",
       "  'mpo': False},\n",
       " {'gatef': cnot,\n",
       "  'gate': Gate(\n",
       "      name: 'cnot',\n",
       "      tensor:\n",
       "          Array([[[[1.+0.j, 0.+0.j],\n",
       "                   [0.+0.j, 0.+0.j]],\n",
       "          \n",
       "                  [[0.+0.j, 1.+0.j],\n",
       "                   [0.+0.j, 0.+0.j]]],\n",
       "          \n",
       "          \n",
       "                 [[[0.+0.j, 0.+0.j],\n",
       "                   [0.+0.j, 1.+0.j]],\n",
       "          \n",
       "                  [[0.+0.j, 0.+0.j],\n",
       "                   [1.+0.j, 0.+0.j]]]], dtype=complex64),\n",
       "      edges: [\n",
       "          Edge(Dangling Edge)[0],\n",
       "          Edge('cnot'[3] -> 'cnot'[1] ),\n",
       "          Edge('cnot'[2] -> 'h'[0] ),\n",
       "          Edge('cnot'[3] -> 'h'[0] )\n",
       "      ]),\n",
       "  'index': (0, 1),\n",
       "  'name': 'cnot',\n",
       "  'split': None,\n",
       "  'mpo': False},\n",
       " {'gatef': cnot,\n",
       "  'gate': Gate(\n",
       "      name: 'cnot',\n",
       "      tensor:\n",
       "          Array([[[[1.+0.j, 0.+0.j],\n",
       "                   [0.+0.j, 0.+0.j]],\n",
       "          \n",
       "                  [[0.+0.j, 1.+0.j],\n",
       "                   [0.+0.j, 0.+0.j]]],\n",
       "          \n",
       "          \n",
       "                 [[[0.+0.j, 0.+0.j],\n",
       "                   [0.+0.j, 1.+0.j]],\n",
       "          \n",
       "                  [[0.+0.j, 0.+0.j],\n",
       "                   [1.+0.j, 0.+0.j]]]], dtype=complex64),\n",
       "      edges: [\n",
       "          Edge(Dangling Edge)[0],\n",
       "          Edge(Dangling Edge)[1],\n",
       "          Edge('cnot'[2] -> 'h'[0] ),\n",
       "          Edge('cnot'[3] -> 'cnot'[1] )\n",
       "      ]),\n",
       "  'index': (2, 1),\n",
       "  'name': 'cnot',\n",
       "  'split': None,\n",
       "  'mpo': False}]"
      ]
     },
     "execution_count": 15,
     "metadata": {},
     "output_type": "execute_result"
    }
   ],
   "source": [
    "c=get_circuit(3) \n",
    "ir=c.to_qir()\n",
    "ir"
   ]
  },
  {
   "cell_type": "code",
   "execution_count": 16,
   "metadata": {},
   "outputs": [
    {
     "data": {
      "text/plain": [
       "(Array([[ 0.70710677+0.j,  0.70710677+0.j],\n",
       "        [ 0.70710677+0.j, -0.70710677+0.j]], dtype=complex64),\n",
       " Array([[[[1.+0.j, 0.+0.j],\n",
       "          [0.+0.j, 0.+0.j]],\n",
       " \n",
       "         [[0.+0.j, 1.+0.j],\n",
       "          [0.+0.j, 0.+0.j]]],\n",
       " \n",
       " \n",
       "        [[[0.+0.j, 0.+0.j],\n",
       "          [0.+0.j, 1.+0.j]],\n",
       " \n",
       "         [[0.+0.j, 0.+0.j],\n",
       "          [1.+0.j, 0.+0.j]]]], dtype=complex64))"
      ]
     },
     "execution_count": 16,
     "metadata": {},
     "output_type": "execute_result"
    }
   ],
   "source": [
    "ir[0][\"gatef\"]().tensor,ir[-1][\"gate\"].tensor"
   ]
  },
  {
   "cell_type": "code",
   "execution_count": 17,
   "metadata": {},
   "outputs": [
    {
     "data": {
      "text/plain": [
       "Array([0.35355335+0.j, 0.35355335+0.j, 0.35355335+0.j, 0.35355335+0.j,\n",
       "       0.35355335+0.j, 0.35355335+0.j, 0.35355335+0.j, 0.35355335+0.j],      dtype=complex64)"
      ]
     },
     "execution_count": 17,
     "metadata": {},
     "output_type": "execute_result"
    }
   ],
   "source": [
    "c.state()"
   ]
  },
  {
   "cell_type": "code",
   "execution_count": 20,
   "metadata": {},
   "outputs": [
    {
     "name": "stdout",
     "output_type": "stream",
     "text": [
      "(0.9999998+0j) 0j\n",
      "(Array([1., 0., 1.], dtype=float32), Array(0.12499998, dtype=float32))\n",
      "(Array([1., 0., 0.], dtype=float32), Array(0.12499998, dtype=float32))\n",
      "(Array([0., 1., 0.], dtype=float32), Array(0.12499998, dtype=float32))\n",
      "(Array([1., 1., 0.], dtype=float32), Array(0.12499998, dtype=float32))\n",
      "(Array([1., 1., 1.], dtype=float32), Array(0.12500021, dtype=float32))\n",
      "(Array([0., 1., 1.], dtype=float32), Array(0.12499998, dtype=float32))\n",
      "(Array([1., 0., 1.], dtype=float32), Array(0.12499998, dtype=float32))\n",
      "(Array([0., 1., 1.], dtype=float32), Array(0.12499998, dtype=float32))\n",
      "(Array([1., 1., 0.], dtype=float32), Array(0.12499998, dtype=float32))\n",
      "(Array([1., 1., 0.], dtype=float32), Array(0.12499998, dtype=float32))\n"
     ]
    }
   ],
   "source": [
    "x1=c.expectation([tc.gates.x(),[1]])\n",
    "\n",
    "z1z2=c.expectation([tc.gates.z(),[1]],[tc.gates.z(),[2]])\n",
    "\n",
    "print(x1,z1z2)\n",
    "\n",
    "for _ in range (10):\n",
    "    print(c.perfect_sampling())"
   ]
  },
  {
   "cell_type": "code",
   "execution_count": 22,
   "metadata": {},
   "outputs": [
    {
     "name": "stdout",
     "output_type": "stream",
     "text": [
      "['r', 'cr', 'u', 'cu', 'rx', 'ry', 'rz', 'phase', 'rxx', 'ryy', 'rzz', 'cphase', 'crx', 'cry', 'crz', 'orx', 'ory', 'orz', 'iswap', 'any', 'exp', 'exp1']\n"
     ]
    }
   ],
   "source": [
    "'''\n",
    "Parameterized Quantum Circuit\n",
    "''' \n",
    "\n",
    "print(tc.Circuit.vgates)"
   ]
  },
  {
   "cell_type": "code",
   "execution_count": 24,
   "metadata": {},
   "outputs": [
    {
     "name": "stdout",
     "output_type": "stream",
     "text": [
      "r : (theta: float = 0, alpha: float = 0, phi: float = 0) -> tensorcircuit.gates.Gate\n",
      "cr : (theta: float = 0, alpha: float = 0, phi: float = 0) -> tensorcircuit.gates.Gate\n",
      "u : (theta: float = 0, phi: float = 0, lbd: float = 0) -> tensorcircuit.gates.Gate\n",
      "cu : (*args: Any, **kws: Any) -> Any\n",
      "rx : (theta: float = 0) -> tensorcircuit.gates.Gate\n",
      "ry : (theta: float = 0) -> tensorcircuit.gates.Gate\n",
      "rz : (theta: float = 0) -> tensorcircuit.gates.Gate\n",
      "phase : (theta: float = 0) -> tensorcircuit.gates.Gate\n",
      "rxx : (*, unitary: Any = array([[0., 0., 0., 1.],\n",
      "       [0., 0., 1., 0.],\n",
      "       [0., 1., 0., 0.],\n",
      "       [1., 0., 0., 0.]]), theta: float, half: bool = True, name: str = 'none') -> tensorcircuit.gates.Gate\n",
      "ryy : (*, unitary: Any = array([[ 0.+0.j,  0.-0.j,  0.-0.j, -1.+0.j],\n",
      "       [ 0.+0.j,  0.+0.j,  1.-0.j,  0.-0.j],\n",
      "       [ 0.+0.j,  1.-0.j,  0.+0.j,  0.-0.j],\n",
      "       [-1.+0.j,  0.+0.j,  0.+0.j,  0.+0.j]]), theta: float, half: bool = True, name: str = 'none') -> tensorcircuit.gates.Gate\n",
      "rzz : (*, unitary: Any = array([[ 1.,  0.,  0.,  0.],\n",
      "       [ 0., -1.,  0., -0.],\n",
      "       [ 0.,  0., -1., -0.],\n",
      "       [ 0., -0., -0.,  1.]]), theta: float, half: bool = True, name: str = 'none') -> tensorcircuit.gates.Gate\n",
      "cphase : (*args: Any, **kws: Any) -> Any\n",
      "crx : (*args: Any, **kws: Any) -> Any\n",
      "cry : (*args: Any, **kws: Any) -> Any\n",
      "crz : (*args: Any, **kws: Any) -> Any\n",
      "orx : (*args: Any, **kws: Any) -> Any\n",
      "ory : (*args: Any, **kws: Any) -> Any\n",
      "orz : (*args: Any, **kws: Any) -> Any\n",
      "iswap : (theta: float = 1.0) -> tensorcircuit.gates.Gate\n",
      "any : (unitary: Any, name: str = 'any') -> tensorcircuit.gates.Gate\n",
      "exp : (unitary: Any, theta: float, name: str = 'none') -> tensorcircuit.gates.Gate\n",
      "exp1 : (unitary: Any, theta: float, half: bool = False, name: str = 'none') -> tensorcircuit.gates.Gate\n"
     ]
    }
   ],
   "source": [
    "for g in tc.Circuit.vgates:\n",
    "    print(g,\":\",inspect.signature(getattr(tc.gates,g).f))"
   ]
  },
  {
   "cell_type": "code",
   "execution_count": 25,
   "metadata": {},
   "outputs": [],
   "source": [
    "def get_circuit(n,params):\n",
    "    c=tc.Circuit(n)\n",
    "    for i in range (n): \n",
    "        c.rx(i,theta=params[i])\n",
    "    c.cnot(0,1)\n",
    "    return c "
   ]
  },
  {
   "cell_type": "code",
   "execution_count": 26,
   "metadata": {},
   "outputs": [
    {
     "name": "stdout",
     "output_type": "stream",
     "text": [
      "tf.Tensor(\n",
      "[ 0.6758712 +0.j          0.        -0.36923012j  0.        -0.36923015j\n",
      " -0.20171136+0.j         -0.20171136+0.j          0.        +0.11019541j\n",
      "  0.        -0.36923015j -0.20171136+0.j        ], shape=(8,), dtype=complex64)\n"
     ]
    }
   ],
   "source": [
    "K=tc.set_backend(\"tensorflow\")\n",
    "n=3\n",
    "params=K.ones([n])\n",
    "c=get_circuit(n,params)\n",
    "print(c.state())"
   ]
  },
  {
   "cell_type": "code",
   "execution_count": 27,
   "metadata": {},
   "outputs": [
    {
     "data": {
      "text/plain": [
       "[{'gatef': rx,\n",
       "  'index': (0,),\n",
       "  'name': 'rx',\n",
       "  'split': None,\n",
       "  'mpo': False,\n",
       "  'parameters': {'theta': <tf.Tensor: shape=(), dtype=complex64, numpy=(1+0j)>},\n",
       "  'gate': Gate(\n",
       "      name: 'rx',\n",
       "      tensor:\n",
       "          <tf.Tensor: shape=(2, 2), dtype=complex64, numpy=\n",
       "          array([[0.87758255+0.j        , 0.        -0.47942555j],\n",
       "                 [0.        -0.47942555j, 0.87758255+0.j        ]], dtype=complex64)>,\n",
       "      edges: [\n",
       "          Edge('cnot'[2] -> 'rx'[0] ),\n",
       "          Edge('rx'[1] -> 'qb-0'[0] )\n",
       "      ])},\n",
       " {'gatef': rx,\n",
       "  'index': (1,),\n",
       "  'name': 'rx',\n",
       "  'split': None,\n",
       "  'mpo': False,\n",
       "  'parameters': {'theta': <tf.Tensor: shape=(), dtype=complex64, numpy=(1+0j)>},\n",
       "  'gate': Gate(\n",
       "      name: 'rx',\n",
       "      tensor:\n",
       "          <tf.Tensor: shape=(2, 2), dtype=complex64, numpy=\n",
       "          array([[0.87758255+0.j        , 0.        -0.47942555j],\n",
       "                 [0.        -0.47942555j, 0.87758255+0.j        ]], dtype=complex64)>,\n",
       "      edges: [\n",
       "          Edge('cnot'[3] -> 'rx'[0] ),\n",
       "          Edge('rx'[1] -> 'qb-1'[0] )\n",
       "      ])},\n",
       " {'gatef': rx,\n",
       "  'index': (2,),\n",
       "  'name': 'rx',\n",
       "  'split': None,\n",
       "  'mpo': False,\n",
       "  'parameters': {'theta': <tf.Tensor: shape=(), dtype=complex64, numpy=(1+0j)>},\n",
       "  'gate': Gate(\n",
       "      name: 'rx',\n",
       "      tensor:\n",
       "          <tf.Tensor: shape=(2, 2), dtype=complex64, numpy=\n",
       "          array([[0.87758255+0.j        , 0.        -0.47942555j],\n",
       "                 [0.        -0.47942555j, 0.87758255+0.j        ]], dtype=complex64)>,\n",
       "      edges: [\n",
       "          Edge(Dangling Edge)[0],\n",
       "          Edge('rx'[1] -> 'qb-2'[0] )\n",
       "      ])},\n",
       " {'gatef': cnot,\n",
       "  'gate': Gate(\n",
       "      name: 'cnot',\n",
       "      tensor:\n",
       "          <tf.Tensor: shape=(2, 2, 2, 2), dtype=complex64, numpy=\n",
       "          array([[[[1.+0.j, 0.+0.j],\n",
       "                   [0.+0.j, 0.+0.j]],\n",
       "          \n",
       "                  [[0.+0.j, 1.+0.j],\n",
       "                   [0.+0.j, 0.+0.j]]],\n",
       "          \n",
       "          \n",
       "                 [[[0.+0.j, 0.+0.j],\n",
       "                   [0.+0.j, 1.+0.j]],\n",
       "          \n",
       "                  [[0.+0.j, 0.+0.j],\n",
       "                   [1.+0.j, 0.+0.j]]]], dtype=complex64)>,\n",
       "      edges: [\n",
       "          Edge(Dangling Edge)[0],\n",
       "          Edge(Dangling Edge)[1],\n",
       "          Edge('cnot'[2] -> 'rx'[0] ),\n",
       "          Edge('cnot'[3] -> 'rx'[0] )\n",
       "      ]),\n",
       "  'index': (0, 1),\n",
       "  'name': 'cnot',\n",
       "  'split': None,\n",
       "  'mpo': False}]"
      ]
     },
     "execution_count": 27,
     "metadata": {},
     "output_type": "execute_result"
    }
   ],
   "source": [
    "ir=c.to_qir()\n",
    "ir"
   ]
  },
  {
   "cell_type": "code",
   "execution_count": 28,
   "metadata": {},
   "outputs": [
    {
     "data": {
      "image/png": "[encoded data removed]",
      "text/plain": [
       "<Figure size 287.496x284.278 with 1 Axes>"
      ]
     },
     "execution_count": 28,
     "metadata": {},
     "output_type": "execute_result"
    }
   ],
   "source": [
    "circ=c.to_qiskit()\n",
    "circ.draw(output=\"mpl\")"
   ]
  },
  {
   "cell_type": "code",
   "execution_count": null,
   "metadata": {},
   "outputs": [],
   "source": []
  }
 ],
 "metadata": {
  "kernelspec": {
   "display_name": "Python 3",
   "language": "python",
   "name": "python3"
  },
  "language_info": {
   "codemirror_mode": {
    "name": "ipython",
    "version": 3
   },
   "file_extension": ".py",
   "mimetype": "text/x-python",
   "name": "python",
   "nbconvert_exporter": "python",
   "pygments_lexer": "ipython3",
   "version": "3.11.0"
  }
 },
 "nbformat": 4,
 "nbformat_minor": 2
}
